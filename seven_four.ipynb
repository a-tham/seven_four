{
 "cells": [
  {
   "cell_type": "code",
   "execution_count": 20,
   "metadata": {},
   "outputs": [],
   "source": [
    "import pandas as pd\n",
    "import numpy as np\n",
    "from tensorflow import keras\n",
    "import tensorflow as tf\n",
    "from pydub import AudioSegment\n",
    "from skimage import io, data\n",
    "import io as fileio\n",
    "import librosa\n",
    "from librosa import display\n",
    "from spotipy.oauth2 import SpotifyClientCredentials\n",
    "import spotipy.util as util\n",
    "import requests\n",
    "import spotipy\n",
    "import seaborn as sns\n",
    "import matplotlib.pyplot as plt\n",
    "from six.moves.urllib.request import urlopen\n",
    "import urllib\n",
    "%matplotlib inline"
   ]
  },
  {
   "cell_type": "code",
   "execution_count": 3,
   "metadata": {},
   "outputs": [
    {
     "name": "stderr",
     "output_type": "stream",
     "text": [
      "WARNING: Logging before flag parsing goes to stderr.\n",
      "W0908 08:28:53.477319 4563555776 deprecation.py:323] From /anaconda3/lib/python3.6/site-packages/tensorflow/python/keras/backend.py:4149: add_dispatch_support.<locals>.wrapper (from tensorflow.python.ops.array_ops) is deprecated and will be removed in a future version.\n",
      "Instructions for updating:\n",
      "Use tf.where in 2.0, which has the same broadcast rule as np.where\n"
     ]
    },
    {
     "name": "stdout",
     "output_type": "stream",
     "text": [
      "Model: \"sequential\"\n",
      "_________________________________________________________________\n",
      "Layer (type)                 Output Shape              Param #   \n",
      "=================================================================\n",
      "conv1d (Conv1D)              (None, 109, 300)          201000    \n",
      "_________________________________________________________________\n",
      "elu (ELU)                    (None, 109, 300)          0         \n",
      "_________________________________________________________________\n",
      "batch_normalization (BatchNo (None, 109, 300)          1200      \n",
      "_________________________________________________________________\n",
      "max_pooling1d (MaxPooling1D) (None, 36, 300)           0         \n",
      "_________________________________________________________________\n",
      "dropout (Dropout)            (None, 36, 300)           0         \n",
      "_________________________________________________________________\n",
      "conv1d_1 (Conv1D)            (None, 36, 150)           45150     \n",
      "_________________________________________________________________\n",
      "elu_1 (ELU)                  (None, 36, 150)           0         \n",
      "_________________________________________________________________\n",
      "batch_normalization_1 (Batch (None, 36, 150)           600       \n",
      "_________________________________________________________________\n",
      "dropout_1 (Dropout)          (None, 36, 150)           0         \n",
      "_________________________________________________________________\n",
      "conv1d_2 (Conv1D)            (None, 36, 50)            7550      \n",
      "_________________________________________________________________\n",
      "elu_2 (ELU)                  (None, 36, 50)            0         \n",
      "_________________________________________________________________\n",
      "batch_normalization_2 (Batch (None, 36, 50)            200       \n",
      "_________________________________________________________________\n",
      "max_pooling1d_1 (MaxPooling1 (None, 36, 50)            0         \n",
      "_________________________________________________________________\n",
      "dropout_2 (Dropout)          (None, 36, 50)            0         \n",
      "_________________________________________________________________\n",
      "flatten (Flatten)            (None, 1800)              0         \n",
      "_________________________________________________________________\n",
      "dense (Dense)                (None, 100)               180100    \n",
      "_________________________________________________________________\n",
      "elu_3 (ELU)                  (None, 100)               0         \n",
      "_________________________________________________________________\n",
      "dropout_3 (Dropout)          (None, 100)               0         \n",
      "_________________________________________________________________\n",
      "dense_1 (Dense)              (None, 7)                 707       \n",
      "=================================================================\n",
      "Total params: 436,507\n",
      "Trainable params: 435,507\n",
      "Non-trainable params: 1,000\n",
      "_________________________________________________________________\n"
     ]
    }
   ],
   "source": [
    "cnn_model = keras.models.load_model('cnn_model.h5')\n",
    "cnn_model.summary()"
   ]
  },
  {
   "cell_type": "code",
   "execution_count": 4,
   "metadata": {},
   "outputs": [],
   "source": [
    "# get Spotify token \n",
    "\n",
    "def get_spotify_service():\n",
    "\n",
    "    cid = \"\"\n",
    "    secret = \"\"\n",
    "    redirectURI = \"http://localhost:8888/callback/\"\n",
    "    username = \"\"\n",
    "    scope = 'user-library-read, playlist-read-private, user-library-read, user-read-currently-playing'\n",
    "\n",
    "    token = util.prompt_for_user_token(username,\n",
    "                                       scope,\n",
    "                                       client_id=cid,\n",
    "                                       client_secret=secret,\n",
    "                                       redirect_uri=redirectURI)\n",
    "\n",
    "    service = spotipy.Spotify(auth=token)\n",
    "\n",
    "    return service"
   ]
  },
  {
   "cell_type": "code",
   "execution_count": 5,
   "metadata": {},
   "outputs": [],
   "source": [
    "# Search artist and get URI\n",
    "\n",
    "def search_artist(artist):\n",
    "\n",
    "    cid = \"\" \n",
    "    secret = \"\"\n",
    "    username = \"\"\n",
    "\n",
    "    client_credentials_manager = SpotifyClientCredentials(client_id=cid, client_secret=secret) \n",
    "    sp = spotipy.Spotify(client_credentials_manager=client_credentials_manager)\n",
    "    scope = 'user-library-read playlist-read-private, user-library-read, user-read-currently-playing'\n",
    "\n",
    "    username = \"\"\n",
    "    spotify = get_spotify_service()\n",
    "\n",
    "    artist = str(artist)\n",
    "\n",
    "    artist_id = sp.search(q='artist:' + artist, type='artist')\n",
    "    artist_uri = artist_id['artists']['items'][0]['external_urls']['spotify'].split(\"/\")[-1]\n",
    "    \n",
    "    return artist_uri"
   ]
  },
  {
   "cell_type": "code",
   "execution_count": 6,
   "metadata": {},
   "outputs": [],
   "source": [
    "# Search artist and get URI\n",
    "\n",
    "def search_artist(artist):\n",
    "\n",
    "    cid = \"\" \n",
    "    secret = \"\"\n",
    "    username = \"\"\n",
    "\n",
    "    client_credentials_manager = SpotifyClientCredentials(client_id=cid, client_secret=secret) \n",
    "    sp = spotipy.Spotify(client_credentials_manager=client_credentials_manager)\n",
    "    scope = 'user-library-read playlist-read-private, user-library-read, user-read-currently-playing'\n",
    "\n",
    "    username = \"\"\n",
    "    spotify = get_spotify_service()\n",
    "\n",
    "    artist = str(artist)\n",
    "\n",
    "    artist_id = sp.search(q='artist:' + artist, type='artist')\n",
    "    artist_uri = artist_id['artists']['items'][0]['external_urls']['spotify'].split(\"/\")[-1]\n",
    "    \n",
    "    return artist_uri"
   ]
  },
  {
   "cell_type": "code",
   "execution_count": 7,
   "metadata": {},
   "outputs": [],
   "source": [
    "# Get album list via artist URI\n",
    "\n",
    "def get_album_list(artist_uri):\n",
    "    \n",
    "    cid = \"\" \n",
    "    secret = \"\"\n",
    "    username = \"\"\n",
    "    \n",
    "    client_credentials_manager = SpotifyClientCredentials(client_id=cid, client_secret=secret) \n",
    "    sp = spotipy.Spotify(client_credentials_manager=client_credentials_manager)\n",
    "    scope = 'user-library-read playlist-read-private, user-library-read, user-read-currently-playing'\n",
    "\n",
    "    username = \"\"\n",
    "    spotify = get_spotify_service()\n",
    "    \n",
    "    artist_albums = sp.artist_albums(artist_uri, album_type='album')\n",
    "    album_count = len(artist_albums['items'])\n",
    "    album_list_urls = []\n",
    "    album_list_title = []\n",
    "\n",
    "    for i in range(album_count):\n",
    "        album_list_urls.append(artist_albums['items'][i]['external_urls']['spotify'])\n",
    "        album_list_title.append(artist_albums['items'][i]['name'])\n",
    "\n",
    "    return album_list_title, album_list_urls"
   ]
  },
  {
   "cell_type": "code",
   "execution_count": 8,
   "metadata": {},
   "outputs": [],
   "source": [
    "# Get tracks of album via album URI\n",
    "\n",
    "def album_tracks(album_uri):\n",
    "    \n",
    "    cid = \"\" \n",
    "    secret = \"\"\n",
    "    username = \"\"\n",
    "    \n",
    "    client_credentials_manager = SpotifyClientCredentials(client_id=cid, client_secret=secret) \n",
    "    sp = spotipy.Spotify(client_credentials_manager=client_credentials_manager)\n",
    "    scope = 'user-library-read playlist-read-private, user-library-read, user-read-currently-playing'\n",
    "\n",
    "    spotify = get_spotify_service()\n",
    "    \n",
    "    track_title = []\n",
    "    track_url = []\n",
    "    \n",
    "    album_tracks = sp.album_tracks(album_uri)\n",
    "    \n",
    "    for i in range(len(album_tracks['items'])):\n",
    "        track_title.append(album_tracks['items'][i]['name'])\n",
    "        track_url.append(album_tracks['items'][i]['preview_url'])\n",
    "    print(track_title)    \n",
    "    return track_title, track_url"
   ]
  },
  {
   "cell_type": "code",
   "execution_count": 9,
   "metadata": {},
   "outputs": [],
   "source": [
    "# End-to-end of getting track from artist input\n",
    "\n",
    "def albums(artist):\n",
    "        \n",
    "    cid = \"\"\n",
    "    secret = \"\"\n",
    "    redirectURI = \"http://localhost:8888/callback/\"\n",
    "    username = \"\"\n",
    "    scope = 'user-library-read, playlist-read-private, user-library-read, user-read-currently-playing'  \n",
    "    spotify = get_spotify_service()\n",
    "    \n",
    "    artist_uri = search_artist(artist)\n",
    "    album_title, album_urls = get_album_list(artist_uri)\n",
    "    print(album_title)\n",
    "    choose = int(input('Please select album:\\n'))\n",
    "    print('You have selected: {}\\n'.format(album_title[choose]))\n",
    "    album_uri = album_urls[choose]\n",
    "    track_list, track_url = album_tracks(album_uri)\n",
    "    track_choose = int(input('Please select track:\\n'))\n",
    "    print(\"Great choice! Now playing: {}'s {}\\n\".format(artist.capitalize(), track_list[track_choose]))\n",
    "    track_url = track_url[track_choose]\n",
    "    preview_song = AudioSegment.from_mp3(fileio.BytesIO(urlopen(track_url).read()))[:30000]\n",
    "    filename = artist+'_'+track_list[track_choose].lower()\n",
    "    preview_song.export(\"./capture/tracks/{}.wav\".format(filename, format=\"wav\"))\n",
    "    return filename, preview_song"
   ]
  },
  {
   "cell_type": "code",
   "execution_count": 15,
   "metadata": {},
   "outputs": [],
   "source": [
    "tags = {\n",
    "    'shoegazeanddreampop': ('guitar loop', 'drone'),\n",
    "    'dance': ('trance loop', 'house loop', 'techno loop', 'tech house loop', 'dance loop', 'dubstep loop'),\n",
    "    'classical': ('violin', 'piano', 'orchestra', 'concert band', 'woodwinds', 'strings'),\n",
    "    'electronica': ('lofi', 'chillhop', 'synthwave', 'electronic'),\n",
    "    'rnb': ('hiphop', 'r&b'),\n",
    "    'pop': ('pop loop', 'pop vocals'),\n",
    "    'rock': ('rock loop', 'rock loop')\n",
    "}"
   ]
  },
  {
   "cell_type": "code",
   "execution_count": 18,
   "metadata": {},
   "outputs": [],
   "source": [
    "\"\"\"\n",
    "Full function of Spotify selection and running of model\n",
    "\n",
    "\"\"\"\n",
    "\n",
    "def run_cnn_model(artist, duration=5, fs=22050, channels=2):\n",
    "    filename, predict_song = albums(artist)\n",
    "    y, sr = librosa.load('./capture/tracks/{}.wav'.format(filename))\n",
    "    D = librosa.feature.melspectrogram(y, sr=sr, n_mels=96)\n",
    "        \n",
    "    plt.figure(figsize=(12, 4))\n",
    "    ax = plt.axes()\n",
    "    ax.set_axis_off()\n",
    "    librosa.display.specshow(librosa.power_to_db(D, ref=np.max), cmap='seismic', y_axis='mel', x_axis='time')\n",
    "    plt.savefig('./capture/spectros/{}.wav'.format(filename)+'.png', bbox_inches='tight', transparent=False, pad_inches=0.0 )\n",
    "    plt.close()\n",
    "    img = io.imread('./capture/spectros/{}.wav.png'.format(filename), as_gray=True)\n",
    "    img = img.reshape(1, img.shape[0], img.shape[1])\n",
    "    cnn_test_result = cnn_model.predict(img)\n",
    "    cnn_pd = pd.DataFrame(cnn_test_result)\n",
    "    cnn_pd.columns = ['classical', 'dance', 'electronica', 'pop', 'rnb', 'rock', 'shoegazeanddreampop']\n",
    "    plt.figure(figsize=(8,4))\n",
    "    sns.barplot(x=cnn_pd.columns, y=cnn_pd.iloc[0,:])\n",
    "    genre = cnn_pd.T.sort_values(0, ascending=False).index[0]\n",
    "    print(genre)\n",
    "    \n",
    "    search = str(np.random.choice(tags[genre]))\n",
    "    preview_ids = []\n",
    "    preview_urls = []\n",
    "    r = requests.get(\"https://freesound.org/apiv2/search/text/?query={}&token=4GqIhwqd8DhNYeNM7r0SWp4kvEXrKDOe3ZACyifu\".format(search))\n",
    "    results = r.json()['results']\n",
    "\n",
    "    for i in range(len(results)):\n",
    "        preview_ids.append(results[i]['id'])\n",
    "    \n",
    "    for i in preview_ids:\n",
    "        preview_urls.append(requests.get('https://freesound.org/apiv2/sounds/{}/?token=4GqIhwqd8DhNYeNM7r0SWp4kvEXrKDOe3ZACyifu'.format(i)).json()['previews']['preview-hq-mp3'])\n",
    "\n",
    "    return preview_urls"
   ]
  },
  {
   "cell_type": "code",
   "execution_count": 21,
   "metadata": {},
   "outputs": [
    {
     "name": "stdout",
     "output_type": "stream",
     "text": [
      "['The Getaway', \"I'm with You\", 'Stadium Arcadium', 'By the Way', 'By the Way (Deluxe Edition)', 'Californication', 'Californication (Deluxe Edition)', 'One Hot Minute (Deluxe Edition)', 'One Hot Minute', 'Blood Sugar Sex Magik (Deluxe Edition)', 'Blood Sugar Sex Magik', \"Mother's Milk\", 'The Uplift Mofo Party Plan', 'Freaky Styley', 'Red Hot Chili Peppers']\n",
      "Please select album:\n",
      "5\n",
      "You have selected: Californication\n",
      "\n",
      "['Around the World', 'Parallel Universe', 'Scar Tissue', 'Otherside', 'Get on Top', 'Californication', 'Easily', 'Porcelain', 'Emit Remmus', 'I Like Dirt', 'This Velvet Glove', 'Savior', 'Purple Stain', 'Right on Time', \"Road Trippin'\"]\n",
      "Please select track:\n",
      "2\n",
      "Great choice! Now playing: Red hot chilli peppers's Scar Tissue\n",
      "\n",
      "pop\n"
     ]
    },
    {
     "data": {
      "text/plain": [
       "['https://freesound.org/data/previews/384/384468_2305278-hq.mp3',\n",
       " 'https://freesound.org/data/previews/347/347848_4019029-hq.mp3',\n",
       " 'https://freesound.org/data/previews/208/208520_2305278-hq.mp3',\n",
       " 'https://freesound.org/data/previews/208/208521_2305278-hq.mp3',\n",
       " 'https://freesound.org/data/previews/338/338780_52391-hq.mp3',\n",
       " 'https://freesound.org/data/previews/18/18974_409-hq.mp3',\n",
       " 'https://freesound.org/data/previews/338/338943_52391-hq.mp3',\n",
       " 'https://freesound.org/data/previews/418/418845_2402876-hq.mp3',\n",
       " 'https://freesound.org/data/previews/419/419333_2402876-hq.mp3',\n",
       " 'https://freesound.org/data/previews/379/379282_5968459-hq.mp3',\n",
       " 'https://freesound.org/data/previews/352/352072_2305278-hq.mp3',\n",
       " 'https://freesound.org/data/previews/387/387410_2305278-hq.mp3',\n",
       " 'https://freesound.org/data/previews/324/324880_2305278-hq.mp3',\n",
       " 'https://freesound.org/data/previews/171/171512_3162775-hq.mp3',\n",
       " 'https://freesound.org/data/previews/272/272576_2285686-hq.mp3']"
      ]
     },
     "execution_count": 21,
     "metadata": {},
     "output_type": "execute_result"
    },
    {
     "data": {
      "image/png": "[encoded data removed]",
      "text/plain": [
       "<Figure size 576x288 with 1 Axes>"
      ]
     },
     "metadata": {
      "needs_background": "light"
     },
     "output_type": "display_data"
    }
   ],
   "source": [
    "run_cnn_model('red hot chilli peppers')"
   ]
  }
 ],
 "metadata": {
  "kernelspec": {
   "display_name": "Python 3",
   "language": "python",
   "name": "python3"
  },
  "language_info": {
   "codemirror_mode": {
    "name": "ipython",
    "version": 3
   },
   "file_extension": ".py",
   "mimetype": "text/x-python",
   "name": "python",
   "nbconvert_exporter": "python",
   "pygments_lexer": "ipython3",
   "version": "3.6.8"
  }
 },
 "nbformat": 4,
 "nbformat_minor": 2
}
